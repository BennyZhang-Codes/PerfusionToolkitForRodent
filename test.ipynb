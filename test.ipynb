{
 "cells": [
  {
   "cell_type": "code",
   "execution_count": 1,
   "metadata": {},
   "outputs": [],
   "source": [
    "import sys\n",
    "import numpy as np\n",
    "from PIL import Image\n",
    "import matplotlib.pyplot as plt\n",
    "\n",
    "from PySide6.QtGui import QImage, QPixmap, QColor, QTransform, QPen\n",
    "from PySide6.QtGui import QPainter, QPainterPath, QPen\n",
    "from PySide6.QtWidgets import QApplication\n",
    "app = QApplication(sys.argv)\n"
   ]
  },
  {
   "cell_type": "code",
   "execution_count": 19,
   "metadata": {},
   "outputs": [],
   "source": [
    "a = np.array([1,2,3,4,0,0,0,8,9,10])"
   ]
  },
  {
   "cell_type": "code",
   "execution_count": 26,
   "metadata": {},
   "outputs": [
    {
     "name": "stdout",
     "output_type": "stream",
     "text": [
      "7\n",
      "4 6\n",
      "4 8\n",
      "4\n"
     ]
    }
   ],
   "source": [
    "c = []\n",
    "\n",
    "for i in range(len(a)):\n",
    "    if i in c:\n",
    "        continue\n",
    "    if a[i] == 0:\n",
    "        if a[i-1] != 0 and a[i+1] != 0:\n",
    "            print(1)\n",
    "        else:\n",
    "            start_idx = i\n",
    "            \n",
    "            c = []\n",
    "            j = i + 1\n",
    "            \n",
    "            while True:\n",
    "                c.append(j)\n",
    "                if a[j] != 0:\n",
    "                    print(j)\n",
    "                    i = j\n",
    "                    break\n",
    "                j = j + 1\n",
    "\n",
    "            end_idx = i - 1\n",
    "            print(start_idx, end_idx)\n",
    "            print(a[start_idx - 1], a[end_idx + 1])\n",
    "            print(len(c)+1)\n"
   ]
  },
  {
   "cell_type": "code",
   "execution_count": 30,
   "metadata": {},
   "outputs": [],
   "source": [
    "from modules.utils.shape import shape_to_mask, get_index_of_mask"
   ]
  },
  {
   "cell_type": "code",
   "execution_count": 32,
   "metadata": {},
   "outputs": [],
   "source": [
    "a = get_index_of_mask(np.ones((2,3)))"
   ]
  },
  {
   "cell_type": "code",
   "execution_count": 36,
   "metadata": {},
   "outputs": [],
   "source": [
    "a = np.array([True, False, True])\n",
    "b = np.array([1,2,3])"
   ]
  },
  {
   "cell_type": "code",
   "execution_count": 41,
   "metadata": {},
   "outputs": [
    {
     "data": {
      "text/plain": [
       "2.0"
      ]
     },
     "execution_count": 41,
     "metadata": {},
     "output_type": "execute_result"
    }
   ],
   "source": [
    "(np.sum(a*b)/np.sum(a))"
   ]
  },
  {
   "cell_type": "code",
   "execution_count": 44,
   "metadata": {},
   "outputs": [
    {
     "data": {
      "text/plain": [
       "2.0"
      ]
     },
     "execution_count": 44,
     "metadata": {},
     "output_type": "execute_result"
    }
   ],
   "source": [
    "np.mean(np.sum(a*b)/np.sum(a))"
   ]
  },
  {
   "cell_type": "code",
   "execution_count": 45,
   "metadata": {},
   "outputs": [
    {
     "data": {
      "text/plain": [
       "array([-0.69314718,  0.        ,  0.40546511])"
      ]
     },
     "execution_count": 45,
     "metadata": {},
     "output_type": "execute_result"
    }
   ],
   "source": [
    "np.log(b/2)"
   ]
  },
  {
   "cell_type": "code",
   "execution_count": 55,
   "metadata": {},
   "outputs": [
    {
     "name": "stdout",
     "output_type": "stream",
     "text": [
      "10 8\n"
     ]
    }
   ],
   "source": [
    "w = 10\n",
    "h = 8\n",
    "\n",
    "pix = QPixmap(w, h)\n",
    "pix.fill(QColor(0,0,0,0))\n",
    "painter = QPainter(pix)\n",
    "pen = QPen()\n",
    "pen.setWidthF(0)\n",
    "pen.setColor(QColor(0,0,0,0))\n",
    "painter.setPen(pen)\n",
    "painter.setBrush(QColor(0,255,255,255))\n",
    "painter.drawEllipse(1,1, 5,5)\n",
    "painter.end()\n",
    "print(pix.width(), pix.height())\n",
    "img = pix.toImage()\n",
    "b = img.bits()\n",
    "img_array = np.frombuffer(b, np.uint8).reshape((h, w, 4))\n",
    "mask = img_array[:,:,-1].astype(bool)\n",
    "# plt.imsave('1.jpg', i)"
   ]
  },
  {
   "cell_type": "code",
   "execution_count": 56,
   "metadata": {},
   "outputs": [],
   "source": [
    "c = img.createMaskFromColor(QColor(0,255,255,255).value())\n",
    "d = c.convertToFormat(QImage.Format_RGB888)"
   ]
  },
  {
   "cell_type": "code",
   "execution_count": 51,
   "metadata": {},
   "outputs": [
    {
     "data": {
      "text/plain": [
       "<PySide6.QtGui.QImage(QSize(10, 8),format=QImage::Format_RGB888,depth=24,devicePixelRatio=1,bytesPerLine=32,sizeInBytes=256) at 0x00000146AA424D00>"
      ]
     },
     "execution_count": 51,
     "metadata": {},
     "output_type": "execute_result"
    }
   ],
   "source": [
    "d"
   ]
  },
  {
   "cell_type": "code",
   "execution_count": 57,
   "metadata": {},
   "outputs": [
    {
     "ename": "ValueError",
     "evalue": "cannot reshape array of size 256 into shape (8,10,3)",
     "output_type": "error",
     "traceback": [
      "\u001b[1;31m---------------------------------------------------------------------------\u001b[0m",
      "\u001b[1;31mValueError\u001b[0m                                Traceback (most recent call last)",
      "\u001b[1;32me:\\PySide6\\MyTool\\test.ipynb Cell 5\u001b[0m in \u001b[0;36m<cell line: 1>\u001b[1;34m()\u001b[0m\n\u001b[1;32m----> <a href='vscode-notebook-cell:/e%3A/PySide6/MyTool/test.ipynb#X13sZmlsZQ%3D%3D?line=0'>1</a>\u001b[0m plt\u001b[39m.\u001b[39mimshow(np\u001b[39m.\u001b[39;49mfrombuffer(d\u001b[39m.\u001b[39;49mbits(), np\u001b[39m.\u001b[39;49muint8)\u001b[39m.\u001b[39;49mreshape((h, w, \u001b[39m3\u001b[39;49m)))\n",
      "\u001b[1;31mValueError\u001b[0m: cannot reshape array of size 256 into shape (8,10,3)"
     ]
    }
   ],
   "source": [
    "plt.imshow(np.frombuffer(d.bits(), np.uint8).reshape((h, w, 3)))"
   ]
  },
  {
   "cell_type": "code",
   "execution_count": 13,
   "metadata": {},
   "outputs": [
    {
     "data": {
      "text/plain": [
       "<PySide6.QtGui.QImage(QSize(10, 8),format=QImage::Format_Grayscale8,depth=8,devicePixelRatio=1,bytesPerLine=12,sizeInBytes=96) at 0x00000146A9C2ED00>"
      ]
     },
     "execution_count": 13,
     "metadata": {},
     "output_type": "execute_result"
    }
   ],
   "source": [
    "c.convertToFormat(QImage.Format_Grayscale8)"
   ]
  },
  {
   "cell_type": "code",
   "execution_count": 59,
   "metadata": {},
   "outputs": [
    {
     "data": {
      "text/plain": [
       "<matplotlib.image.AxesImage at 0x146aa7bbee0>"
      ]
     },
     "execution_count": 59,
     "metadata": {},
     "output_type": "execute_result"
    },
    {
     "data": {
      "image/png": "[encoded data removed]",
      "text/plain": [
       "<Figure size 640x480 with 1 Axes>"
      ]
     },
     "metadata": {},
     "output_type": "display_data"
    }
   ],
   "source": [
    "plt.imshow(i)"
   ]
  },
  {
   "cell_type": "code",
   "execution_count": 32,
   "metadata": {},
   "outputs": [
    {
     "data": {
      "text/plain": [
       "dtype('bool')"
      ]
     },
     "execution_count": 32,
     "metadata": {},
     "output_type": "execute_result"
    }
   ],
   "source": [
    "np.array([True, False]).dtype"
   ]
  },
  {
   "cell_type": "code",
   "execution_count": 68,
   "metadata": {},
   "outputs": [
    {
     "data": {
      "text/plain": [
       "<matplotlib.image.AxesImage at 0x146aaaa3070>"
      ]
     },
     "execution_count": 68,
     "metadata": {},
     "output_type": "execute_result"
    },
    {
     "data": {
      "image/png": "[encoded data removed]",
      "text/plain": [
       "<Figure size 640x480 with 1 Axes>"
      ]
     },
     "metadata": {},
     "output_type": "display_data"
    }
   ],
   "source": [
    "plt.imshow(())"
   ]
  },
  {
   "cell_type": "code",
   "execution_count": 12,
   "metadata": {},
   "outputs": [
    {
     "data": {
      "text/plain": [
       "(200, 120)"
      ]
     },
     "execution_count": 12,
     "metadata": {},
     "output_type": "execute_result"
    }
   ],
   "source": [
    "out.shape"
   ]
  },
  {
   "cell_type": "code",
   "execution_count": null,
   "metadata": {},
   "outputs": [],
   "source": [
    "sys.exit(app.exec())"
   ]
  },
  {
   "cell_type": "code",
   "execution_count": 6,
   "metadata": {},
   "outputs": [],
   "source": [
    "import numpy as np\n",
    "import cv2\n",
    "from PIL import Image, ImageColor\n",
    "\n",
    "import matplotlib.pyplot as plt\n",
    "import matplotlib.colors as colors"
   ]
  },
  {
   "cell_type": "code",
   "execution_count": 74,
   "metadata": {},
   "outputs": [],
   "source": [
    "colorslist = ['black','#0D8BF3','#34F065','#F6E43C','#EE1A26', ]\n",
    "cmap = colors.LinearSegmentedColormap.from_list('CBFcmap',colorslist,N=256)\n",
    "\n",
    "color_list = [[cmap(i)[0],cmap(i)[1],cmap(i)[2] ]for i in range(cmap.N)]\n",
    "cmp = np.array(color_list)*255\n",
    "cmp = cmp.astype(np.uint8)"
   ]
  },
  {
   "cell_type": "code",
   "execution_count": 107,
   "metadata": {},
   "outputs": [
    {
     "data": {
      "text/plain": [
       "(96, 128, 3)"
      ]
     },
     "execution_count": 107,
     "metadata": {},
     "output_type": "execute_result"
    }
   ],
   "source": [
    "r = cv2.applyColorMap(img, cmp[:,0])\n",
    "g = cv2.applyColorMap(img, cmp[:,1])\n",
    "b = cv2.applyColorMap(img, cmp[:,2])\n",
    "np.stack([r,g,b], axis=-1).shape"
   ]
  },
  {
   "cell_type": "code",
   "execution_count": 30,
   "metadata": {},
   "outputs": [],
   "source": [
    "from pydicom import dcmread\n",
    "ds = dcmread(r'E:\\A30\\DSC\\Im00008.dcm')\n",
    "\n",
    "img = ds.pixel_array\n",
    "img = np.clip(img, a_min=0, a_max=4000)\n",
    "img = ((img - img.min()) / max(1, img.max() - img.min()))*255\n",
    "img = img.astype(np.uint8)"
   ]
  }
 ],
 "metadata": {
  "kernelspec": {
   "display_name": "Python 3.10.4 ('PySide')",
   "language": "python",
   "name": "python3"
  },
  "language_info": {
   "codemirror_mode": {
    "name": "ipython",
    "version": 3
   },
   "file_extension": ".py",
   "mimetype": "text/x-python",
   "name": "python",
   "nbconvert_exporter": "python",
   "pygments_lexer": "ipython3",
   "version": "3.10.4"
  },
  "orig_nbformat": 4,
  "vscode": {
   "interpreter": {
    "hash": "b08108a8bc3123fe09bcfae12d53d46c311594505e4f143d4ec289d8c8e74364"
   }
  }
 },
 "nbformat": 4,
 "nbformat_minor": 2
}
